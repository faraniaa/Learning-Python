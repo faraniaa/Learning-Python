{
  "nbformat": 4,
  "nbformat_minor": 0,
  "metadata": {
    "colab": {
      "name": "Python Type Data Conversion.ipynb",
      "provenance": []
    },
    "kernelspec": {
      "name": "python3",
      "display_name": "Python 3"
    },
    "language_info": {
      "name": "python"
    }
  },
  "cells": [
    {
      "cell_type": "markdown",
      "source": [
        "Python Type Data Conversion\n",
        "\n",
        "The process of converting the value of one data type (integer, string, float, etc.) to another data type is called type conversion. Python has two types of type conversion.\n",
        "\n",
        "- Implicit Type Conversion\n",
        "- Explicit Type Conversion\n"
      ],
      "metadata": {
        "id": "92lUDrw-L6Nt"
      }
    },
    {
      "cell_type": "markdown",
      "source": [
        "Implicit Type Conversion\n",
        "\n",
        "In Implicit type conversion, Python automatically converts one data type to another data type. This process doesn't need any user involvement.\n"
      ],
      "metadata": {
        "id": "s14KGBMPOnlD"
      }
    },
    {
      "cell_type": "code",
      "source": [
        "ex_integer = 350\n",
        "ex_float = 4.35\n",
        "\n",
        "new = ex_integer + ex_float\n",
        "\n",
        "print(\"Value ex_integer:\", ex_integer)\n",
        "print(\"Value ex_float:\", ex_float)\n",
        "print(\"Value new:\", new)\n",
        "\n",
        "print(\"Data type of ex_int:\",type(ex_integer))\n",
        "print(\"Data type of ex_flo:\",type(ex_float))\n",
        "print(\"Data type of new:\",type(new))"
      ],
      "metadata": {
        "colab": {
          "base_uri": "https://localhost:8080/"
        },
        "id": "9-6ABIcMTrGS",
        "outputId": "e0e2e393-9937-4f39-824c-7805124154b4"
      },
      "execution_count": 3,
      "outputs": [
        {
          "output_type": "stream",
          "name": "stdout",
          "text": [
            "Data type of ex_int: <class 'int'>\n",
            "Data type of ex_flo: <class 'float'>\n",
            "Data type of new: <class 'float'>\n"
          ]
        }
      ]
    },
    {
      "cell_type": "markdown",
      "source": [
        "In the above program,\n",
        "\n",
        "- We add two variables ex_integer and ex_float, storing the value in new.\n",
        "- We will look at the data type of all three objects respectively.\n",
        "- In the output, we can see the data type of ex_integer is an integer while the data type of ex_float is a float.\n",
        "- Also, we can see the new has a float data type because Python always converts smaller data types to larger data types to avoid the loss of data.\n",
        "\n",
        "This is what call implisit type conversion.\n",
        "\n",
        "But it is useless to string data type."
      ],
      "metadata": {
        "id": "koqC1G3HT-Yd"
      }
    },
    {
      "cell_type": "markdown",
      "source": [
        "Explicit Type Conversion\n",
        "\n",
        "In Explicit Type Conversion, users convert the data type of an object to required data type. We use the predefined functions like int(), float(), str(), etc to perform explicit type conversion.\n",
        "\n",
        "This type of conversion is also called typecasting because the user casts (changes) the data type of the objects.\n",
        "\n",
        "Syntax :\n",
        "\n",
        "\\<required_datatype>(expression)\n",
        "\n",
        "\n",
        "Typecasting can be done by assigning the required data type function to the expression."
      ],
      "metadata": {
        "id": "0Vgl8ifsUjCi"
      }
    },
    {
      "cell_type": "code",
      "execution_count": 9,
      "metadata": {
        "colab": {
          "base_uri": "https://localhost:8080/"
        },
        "id": "kfcXncyaKWnp",
        "outputId": "4a1002d6-b71a-4896-98b7-5588043bffff"
      },
      "outputs": [
        {
          "output_type": "stream",
          "name": "stdout",
          "text": [
            "Value ex_int: 350\n",
            "Value ex_flo: 4.35\n",
            "Value ex_str: 50.5\n",
            "Data type of ex_int: <class 'int'>\n",
            "Data type of ex_flo: <class 'float'>\n",
            "Data type of ex_str: <class 'str'>\n",
            "********************************************************\n",
            "Data type of ex_flo after Type Casting: <class 'int'>\n",
            "Data type of ex_int after Type Casting: <class 'str'>\n",
            "Data type of ex_str after Type Casting: <class 'float'>\n",
            "Value ex_int: 350\n",
            "Value ex_flo: 4\n",
            "Value ex_str: 50.5\n"
          ]
        }
      ],
      "source": [
        "ex_int = 350\n",
        "ex_flo = 4.35\n",
        "ex_str = \"50.5\"\n",
        "\n",
        "print(\"Value ex_int:\", ex_int)\n",
        "print(\"Value ex_flo:\", ex_flo)\n",
        "print(\"Value ex_str:\", ex_str)\n",
        "\n",
        "print(\"Data type of ex_int:\",type(ex_int))\n",
        "print(\"Data type of ex_flo:\",type(ex_flo))\n",
        "print(\"Data type of ex_str:\",type(ex_str))\n",
        "\n",
        "print(\"********************************************************\")\n",
        "\n",
        "ex_flo = int(ex_flo)\n",
        "ex_int = str(ex_int)\n",
        "ex_str = float(ex_str)\n",
        "\n",
        "print(\"Data type of ex_flo after Type Casting:\",type(ex_flo))\n",
        "print(\"Data type of ex_int after Type Casting:\",type(ex_int))\n",
        "print(\"Data type of ex_str after Type Casting:\",type(ex_str))\n",
        "\n",
        "print(\"Value ex_int:\", ex_int)\n",
        "print(\"Value ex_flo:\", ex_flo)\n",
        "print(\"Value ex_str:\", ex_str)"
      ]
    },
    {
      "cell_type": "markdown",
      "source": [
        "In the above program,\n",
        "\n",
        "- We add three variables ex_int, ex_flo, and ex_str\n",
        "- We will look at the data type of all three objects respectively.\n",
        "- In the output, we can see the data type of ex_int is an integer, ex_str is an string, while the data type of num_flo is a float.\n",
        "- We converted ex_flo from float(higher) to integer(lower) type using int() function to perform the addition. ex_int from integer to string type using str() function. ex_str from string to float type using float()\n"
      ],
      "metadata": {
        "id": "bGzm8aO6Qts0"
      }
    },
    {
      "cell_type": "markdown",
      "source": [
        "We can also doing conversion with data list, tuple, and set"
      ],
      "metadata": {
        "id": "PLrBDgSnZSbV"
      }
    },
    {
      "cell_type": "code",
      "source": [
        "data_list=[\"null\", \"Science\", 10, 6.0, \"MEMBER\"]\n",
        "data_set=(\"null\", \"data\", 2, 10.0, \"6 Member\")\n",
        "\n",
        "print(\"Data list:\",data_list)\n",
        "print(\"Data set:\",data_set)\n",
        "\n",
        "print(\"List to Set:\", set(data_list))\n",
        "print(\"Set to Tuple:\", tuple(data_set))"
      ],
      "metadata": {
        "colab": {
          "base_uri": "https://localhost:8080/"
        },
        "id": "evTMpJrmZhAG",
        "outputId": "79d4e07f-c7ab-4c1a-ae34-26501f430b19"
      },
      "execution_count": 11,
      "outputs": [
        {
          "output_type": "stream",
          "name": "stdout",
          "text": [
            "Data list: ['null', 'Science', 10, 6.0, 'MEMBER']\n",
            "Data set: ('null', 'data', 2, 10.0, '6 Member')\n",
            "List to Set: {'MEMBER', 6.0, 10, 'Science', 'null'}\n",
            "Set to Tuple: ('null', 'data', 2, 10.0, '6 Member')\n"
          ]
        }
      ]
    },
    {
      "cell_type": "markdown",
      "source": [
        "For conversion to a dictionary, the data must meet the key-value requirements. Here are two examples of conversions:\n",
        "\n",
        "- List of several lists whose contents are value pairs into a dictionary.\n",
        "- As well as converting a list of tuples containing value pairs into a dictionary"
      ],
      "metadata": {
        "id": "TDQM1UZ3bNXW"
      }
    },
    {
      "cell_type": "code",
      "source": [
        "[[\"Name\",\"Null Science\"],[\"Member\",6]]\n",
        "print(\"Dictionary conversion:\",dict([[\"Name\",\"Null Science\"],[\"Member\",6]]))"
      ],
      "metadata": {
        "colab": {
          "base_uri": "https://localhost:8080/"
        },
        "id": "PgJhlEukbONk",
        "outputId": "e244c1d3-8028-492a-d2ee-dd7fe12ca94a"
      },
      "execution_count": 13,
      "outputs": [
        {
          "output_type": "stream",
          "name": "stdout",
          "text": [
            "Dictionary conversion: {'Name': 'Null Science', 'Member': 6}\n"
          ]
        }
      ]
    }
  ]
}