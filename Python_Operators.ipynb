{
  "nbformat": 4,
  "nbformat_minor": 0,
  "metadata": {
    "colab": {
      "name": "Python Operators.ipynb",
      "provenance": [],
      "collapsed_sections": [
        "Tw5YZ1XP1afT",
        "2cF_DHYk1aVs",
        "0FmGxiZ91aPa",
        "A0DhlZ3D1aHT",
        "aAxPGb3H16xC",
        "T1uVlOnW16_i"
      ]
    },
    "kernelspec": {
      "name": "python3",
      "display_name": "Python 3"
    },
    "language_info": {
      "name": "python"
    }
  },
  "cells": [
    {
      "cell_type": "markdown",
      "source": [
        "#**Python Operators**\n",
        ">Operators are used to perform operations on variables and values."
      ],
      "metadata": {
        "id": "dygG__Ex1UY9"
      }
    },
    {
      "cell_type": "markdown",
      "source": [
        "## **Python Arithmetic Operators**\n",
        "> Arithmetic operators are used with numeric values to perform common mathematical operations.\n"
      ],
      "metadata": {
        "id": "Tw5YZ1XP1afT"
      }
    },
    {
      "cell_type": "code",
      "source": [
        "x = 10\n",
        "y = 5\n",
        "z = 7"
      ],
      "metadata": {
        "id": "S8wkwzCh2O7R"
      },
      "execution_count": 4,
      "outputs": []
    },
    {
      "cell_type": "code",
      "source": [
        "# Addition (+)\n",
        "print(x+y)"
      ],
      "metadata": {
        "id": "IVq3XozI2Jk6"
      },
      "execution_count": null,
      "outputs": []
    },
    {
      "cell_type": "code",
      "source": [
        "# Substraction ()\n",
        "print(x-y)"
      ],
      "metadata": {
        "id": "hS3Ktxhn2VwI"
      },
      "execution_count": null,
      "outputs": []
    },
    {
      "cell_type": "code",
      "source": [
        "# Multiplication (*)\n",
        "print(x*y)"
      ],
      "metadata": {
        "id": "IM0BUuNH2Vrw"
      },
      "execution_count": null,
      "outputs": []
    },
    {
      "cell_type": "code",
      "source": [
        "# Division (/)\n",
        "print(x/y)"
      ],
      "metadata": {
        "id": "j_shxejR2Vnb"
      },
      "execution_count": null,
      "outputs": []
    },
    {
      "cell_type": "code",
      "source": [
        "# Modulus (+) --- remaining quotient\n",
        "print(z%y)"
      ],
      "metadata": {
        "id": "ln6pHahQ2Vj5"
      },
      "execution_count": null,
      "outputs": []
    },
    {
      "cell_type": "code",
      "source": [
        "# Exponentiation (**)\n",
        "print(x**y)"
      ],
      "metadata": {
        "id": "4xnSwFog2VbR"
      },
      "execution_count": null,
      "outputs": []
    },
    {
      "cell_type": "code",
      "source": [
        "# Floor Division (//) --- rounds the result down to the nearest whole number\n",
        "print(z//x)"
      ],
      "metadata": {
        "id": "-PmxDEDs3ADP"
      },
      "execution_count": null,
      "outputs": []
    },
    {
      "cell_type": "markdown",
      "source": [
        "##**Python Assignment Operators**\n",
        ">Assignment operators are used to assign values to variables. also we can using our variable as an operand."
      ],
      "metadata": {
        "id": "2cF_DHYk1aVs"
      }
    },
    {
      "cell_type": "code",
      "source": [
        "as_operators = 7"
      ],
      "metadata": {
        "id": "dwLyvsoI3ZfV"
      },
      "execution_count": 12,
      "outputs": []
    },
    {
      "cell_type": "markdown",
      "source": [
        "generally we will write our syntax like below"
      ],
      "metadata": {
        "id": "-XayV5ha3uIU"
      }
    },
    {
      "cell_type": "code",
      "source": [
        "as_operators = as_operators + 3\n",
        "\n",
        "print(as_operators)"
      ],
      "metadata": {
        "id": "IZ94ghcm3nFF"
      },
      "execution_count": null,
      "outputs": []
    },
    {
      "cell_type": "markdown",
      "source": [
        "you know what, we can use this method. And this method can work in every Arithmatic Operators"
      ],
      "metadata": {
        "id": "bWiL6iUd34wk"
      }
    },
    {
      "cell_type": "code",
      "source": [
        "as_operators += 3\n",
        "\n",
        "print(as_operators)"
      ],
      "metadata": {
        "id": "GC8oXiYA3s2l"
      },
      "execution_count": null,
      "outputs": []
    },
    {
      "cell_type": "code",
      "source": [
        "as_operators *= 3\n",
        "\n",
        "print(as_operators)"
      ],
      "metadata": {
        "id": "3qZTMU_z4FOu"
      },
      "execution_count": null,
      "outputs": []
    },
    {
      "cell_type": "markdown",
      "source": [
        "##**Python Comparison Operators**\n",
        "> Comparison operators are used to compare two values. This operators will **return True or False**\n",
        "*   equal (==)\n",
        "*   not equal (!=)\n",
        "*   less than (<) and less than or equal to (<=)\n",
        "*   greater than (>) and greater than or equal to (>=)\n"
      ],
      "metadata": {
        "id": "0FmGxiZ91aPa"
      }
    },
    {
      "cell_type": "code",
      "source": [
        "com_operators = 7\n",
        "com_operators2 = 3"
      ],
      "metadata": {
        "id": "d9GS8Z3Y4kYp"
      },
      "execution_count": 19,
      "outputs": []
    },
    {
      "cell_type": "markdown",
      "source": [
        "equal ( == )"
      ],
      "metadata": {
        "id": "aS1Zfq1T4M9L"
      }
    },
    {
      "cell_type": "code",
      "source": [
        "com_operators2 == 7"
      ],
      "metadata": {
        "id": "Kz7haWoS4M1z"
      },
      "execution_count": null,
      "outputs": []
    },
    {
      "cell_type": "markdown",
      "source": [
        "not equal (!=)"
      ],
      "metadata": {
        "id": "HF5GgjJ04c4z"
      }
    },
    {
      "cell_type": "code",
      "source": [
        "com_operators2 != 7"
      ],
      "metadata": {
        "id": "7KIRr_Aj4b_C"
      },
      "execution_count": null,
      "outputs": []
    },
    {
      "cell_type": "markdown",
      "source": [
        "less than ( < ) and less than or equal to ( <= >"
      ],
      "metadata": {
        "id": "GZ_cyak64Mkx"
      }
    },
    {
      "cell_type": "code",
      "source": [
        "com_operators2 < com_operators"
      ],
      "metadata": {
        "id": "QmsNe_L24LKz"
      },
      "execution_count": null,
      "outputs": []
    },
    {
      "cell_type": "code",
      "source": [
        "com_operators <= com_operators2"
      ],
      "metadata": {
        "id": "f54DXP_z4y1a"
      },
      "execution_count": null,
      "outputs": []
    },
    {
      "cell_type": "markdown",
      "source": [
        "greater than ( < ) and greater than or equal to ( <= >"
      ],
      "metadata": {
        "id": "K6SqJNon4K5f"
      }
    },
    {
      "cell_type": "code",
      "source": [
        "com_operators > com_operators2"
      ],
      "metadata": {
        "id": "8-UsF4AF43Nh"
      },
      "execution_count": null,
      "outputs": []
    },
    {
      "cell_type": "code",
      "source": [
        "com_operators2 >= com_operators"
      ],
      "metadata": {
        "id": "x0sGEkOT4XVS"
      },
      "execution_count": null,
      "outputs": []
    },
    {
      "cell_type": "markdown",
      "source": [
        "we can also use more than 2 operand."
      ],
      "metadata": {
        "id": "gtsKzGXn6qWc"
      }
    },
    {
      "cell_type": "code",
      "source": [
        "com_operators > com_operators < 10"
      ],
      "metadata": {
        "id": "8lhAT5K26qp_"
      },
      "execution_count": null,
      "outputs": []
    },
    {
      "cell_type": "markdown",
      "source": [
        "##**Python Logical Operators**\n",
        "> Logical operators are used to combine conditional statements. also we known as **BOOLEAN OPERATORS**. So the return will be True or False\n",
        "\n",
        "*   **and** ( Return True if both statements are true )\n",
        "*   **or** ( Return True if one of statements is true ) \n",
        "*   **not** (Reverse the result)\n",
        "\n"
      ],
      "metadata": {
        "id": "A0DhlZ3D1aHT"
      }
    },
    {
      "cell_type": "code",
      "source": [
        "x_log = 3\n",
        "y_log = 7"
      ],
      "metadata": {
        "id": "__SwHPW05W5n"
      },
      "execution_count": 27,
      "outputs": []
    },
    {
      "cell_type": "code",
      "source": [
        "x_log < 10 and y_log < 10"
      ],
      "metadata": {
        "id": "yQUOtFkz5Ktx"
      },
      "execution_count": null,
      "outputs": []
    },
    {
      "cell_type": "code",
      "source": [
        "x_log < 5 or  x < 10"
      ],
      "metadata": {
        "id": "i-imhnDw5ICi"
      },
      "execution_count": null,
      "outputs": []
    },
    {
      "cell_type": "code",
      "source": [
        "not(x_log < 10 and y_log < 10)"
      ],
      "metadata": {
        "id": "GR65dsR_5Hqh"
      },
      "execution_count": null,
      "outputs": []
    },
    {
      "cell_type": "markdown",
      "source": [
        "##**Python Identity Operators**\n",
        "> Identity operators are used to compare the objects, not if they are equal, but if they are actually the same object.\n",
        "\n",
        "\n",
        "*   **is** ( Returns True if both variables are the same object )\n",
        "*   **is not** (Returns True if both variables are not the same object)\n",
        "\n"
      ],
      "metadata": {
        "id": "aAxPGb3H16xC"
      }
    },
    {
      "cell_type": "code",
      "source": [
        "x_ident = [\"Cat\", \"Dog\", \"Rabbit\"]\n",
        "y_ident = [\"Cat\", \"Dog\", \"Rabbit\"]\n",
        "z_ident = x_ident"
      ],
      "metadata": {
        "id": "gxuk9mSE6M5x"
      },
      "execution_count": 31,
      "outputs": []
    },
    {
      "cell_type": "code",
      "source": [
        "x_ident is y_ident"
      ],
      "metadata": {
        "id": "_0-auktR6MfN"
      },
      "execution_count": null,
      "outputs": []
    },
    {
      "cell_type": "code",
      "source": [
        "x_ident is not z_ident"
      ],
      "metadata": {
        "id": "27L2XvXZ6MBd"
      },
      "execution_count": null,
      "outputs": []
    },
    {
      "cell_type": "markdown",
      "source": [
        "##**Python Membership Operators**\n",
        "Membership operators are used to test if a sequence is presented in an object.\n",
        "\n",
        "\n",
        "*   **in** \n",
        "*   **not in**\n",
        "\n"
      ],
      "metadata": {
        "id": "T1uVlOnW16_i"
      }
    },
    {
      "cell_type": "code",
      "source": [
        "phonetic = [\"Alpha\", \"Beta\", \"Charlie\", \"Delta\"]"
      ],
      "metadata": {
        "id": "P0pWJFZ87EyL"
      },
      "execution_count": 34,
      "outputs": []
    },
    {
      "cell_type": "code",
      "source": [
        "print(\"Charlie\" in phonetic)"
      ],
      "metadata": {
        "id": "hQOfLhjy7Nx7"
      },
      "execution_count": null,
      "outputs": []
    },
    {
      "cell_type": "code",
      "source": [
        "print(\"Delta\" not in phonetic)"
      ],
      "metadata": {
        "id": "aBHx3FEd7RYD"
      },
      "execution_count": null,
      "outputs": []
    },
    {
      "cell_type": "code",
      "source": [
        "print(\"Gamma\" not in phonetic)"
      ],
      "metadata": {
        "id": "XOccZP6N7TwQ"
      },
      "execution_count": null,
      "outputs": []
    }
  ]
}