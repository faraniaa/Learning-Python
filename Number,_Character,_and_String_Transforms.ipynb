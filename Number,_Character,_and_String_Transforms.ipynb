{
  "nbformat": 4,
  "nbformat_minor": 0,
  "metadata": {
    "colab": {
      "name": "Number, Character, and String Transforms.ipynb",
      "provenance": []
    },
    "kernelspec": {
      "name": "python3",
      "display_name": "Python 3"
    },
    "language_info": {
      "name": "python"
    }
  },
  "cells": [
    {
      "cell_type": "markdown",
      "source": [
        "# **Learn Python #3 : Number, Character, & String Transform in Python**"
      ],
      "metadata": {
        "id": "XvectzGf2uDB"
      }
    },
    {
      "cell_type": "markdown",
      "source": [
        "### **1. Changing Uppercase and Lowercase**\n",
        "\n",
        "---\n",
        "\n",
        "\n",
        "\n",
        "*   Upper()\n",
        "\n",
        "Convert character/String from lowercase to uppercase. If the letter first big, then nothing will change."
      ],
      "metadata": {
        "id": "Ft5QihNl3C1p"
      }
    },
    {
      "cell_type": "code",
      "execution_count": null,
      "metadata": {
        "id": "ZcEioeA-r2fg"
      },
      "outputs": [],
      "source": [
        "name = 'sara'\n",
        "name = name.upper()\n",
        "print(name)"
      ]
    },
    {
      "cell_type": "markdown",
      "source": [
        "*   lower()\n",
        "\n",
        "The opposite of upper() . Used to convert characters/strings from letters\n",
        "uppercase to lowercase.\n",
        "\n",
        "\n",
        "Note : If there are non-letter characters (symbols/numbers) that do not have capital options, then the character is not changed."
      ],
      "metadata": {
        "id": "om55Qf5T3u4t"
      }
    },
    {
      "cell_type": "code",
      "source": [
        "name = 'sara'\n",
        "name = name.lower()\n",
        "print(name)"
      ],
      "metadata": {
        "id": "6rIMBaEs4moo"
      },
      "execution_count": null,
      "outputs": []
    },
    {
      "cell_type": "markdown",
      "source": [
        "### **2. a Beginning and an End**\n",
        "\n",
        "---\n",
        "\n",
        "\n",
        "\n",
        "*   rstrip()\n",
        "\n",
        "This method will remove the whitespace to the right of the string or the end\n",
        "strings.\n",
        "\n"
      ],
      "metadata": {
        "id": "9hXpbSzt4uUW"
      }
    },
    {
      "cell_type": "code",
      "source": [
        "print('Sing '.rstrip())"
      ],
      "metadata": {
        "id": "bK15-7p75tgs"
      },
      "execution_count": null,
      "outputs": []
    },
    {
      "cell_type": "markdown",
      "source": [
        "*   lstrip()\n",
        "\n",
        "Useful for removing whitespace on the left or the beginning of a string."
      ],
      "metadata": {
        "id": "grEnN4wl5t87"
      }
    },
    {
      "cell_type": "code",
      "source": [
        "print(' Sing'.lstrip())"
      ],
      "metadata": {
        "id": "x7plX_H_53Nt"
      },
      "execution_count": null,
      "outputs": []
    },
    {
      "cell_type": "markdown",
      "source": [
        "*   strip()\n",
        "\n",
        "Will remove whitespace at the beginning or end of the string.\n",
        "\n"
      ],
      "metadata": {
        "id": "hu_zs7dB53qh"
      }
    },
    {
      "cell_type": "code",
      "source": [
        "print(' Sing '.strip())"
      ],
      "metadata": {
        "id": "zNfLJAUg6AX3"
      },
      "execution_count": null,
      "outputs": []
    },
    {
      "cell_type": "markdown",
      "source": [
        "You can also specify which characters or sections you want to remove."
      ],
      "metadata": {
        "id": "VM438AWv6XIR"
      }
    },
    {
      "cell_type": "code",
      "source": [
        "say = 'Sing&Dance'\n",
        "print(say.strip('Dance'))"
      ],
      "metadata": {
        "id": "sCgMBiGr6eB9"
      },
      "execution_count": null,
      "outputs": []
    },
    {
      "cell_type": "markdown",
      "source": [
        "*   startswith()\n",
        "\n",
        "This method will return True if the string starts with the word the specified prefix we want, otherwise it returns False."
      ],
      "metadata": {
        "id": "9z9mGMYp68rh"
      }
    },
    {
      "cell_type": "code",
      "source": [
        "print('Sing a Song'.startswith('Sing'))"
      ],
      "metadata": {
        "id": "YpbAB47M7VP6"
      },
      "execution_count": null,
      "outputs": []
    },
    {
      "cell_type": "markdown",
      "source": [
        "*   endswith()\n",
        "\n",
        "As opposed to startswith() , this method returns True if the string ends with the specified suffix we want, otherwise it will returns False value."
      ],
      "metadata": {
        "id": "M0prgY237V0A"
      }
    },
    {
      "cell_type": "code",
      "source": [
        "print('Sing a Song'.endswith('Song'))"
      ],
      "metadata": {
        "id": "glqpouii7isb"
      },
      "execution_count": null,
      "outputs": []
    },
    {
      "cell_type": "markdown",
      "source": [
        "With this method, you can perform string comparisons in the form of a beginning or a suffix only, so there is no need to separate the strings and use the equal to operator (==)."
      ],
      "metadata": {
        "id": "Lk8wtdti7jNh"
      }
    },
    {
      "cell_type": "markdown",
      "source": [
        "### **3. Splitting and Concatenating String**\n",
        "\n",
        "---\n",
        "\n",
        "\n",
        "\n",
        "*   join()\n",
        "The method used to concatenate a number of string. The string with the join() operation will be inserted between the string in the parameter."
      ],
      "metadata": {
        "id": "ux3J3LpA7o0A"
      }
    },
    {
      "cell_type": "code",
      "source": [
        "print(' '.join(['Purple', 'Heart', '?']))"
      ],
      "metadata": {
        "id": "P5MJHzEg82NF"
      },
      "execution_count": null,
      "outputs": []
    },
    {
      "cell_type": "code",
      "source": [
        "print('007'.join(['Purple', 'Heart', '?']))"
      ],
      "metadata": {
        "id": "lJroaA6r87Tb"
      },
      "execution_count": null,
      "outputs": []
    },
    {
      "cell_type": "markdown",
      "source": [
        "*   split()\n",
        "\n",
        "Method that splits substrings based on a specified delimiter (default is whitespace, tab, or newline)."
      ],
      "metadata": {
        "id": "iEyGdTfB9N9S"
      }
    },
    {
      "cell_type": "code",
      "source": [
        "print('Purple Heart'.split())"
      ],
      "metadata": {
        "id": "Vl14drcM9Ycp"
      },
      "execution_count": null,
      "outputs": []
    },
    {
      "cell_type": "code",
      "source": [
        "# You can change the split(delimiter) parameter, as in the following example :\n",
        "\n",
        "print('Purple007Heart007:)'.split('007'))"
      ],
      "metadata": {
        "id": "qXm58Vv29xpl"
      },
      "execution_count": null,
      "outputs": []
    },
    {
      "cell_type": "markdown",
      "source": [
        "You can also use this split() method to split each line in a string\n",
        "multi-line."
      ],
      "metadata": {
        "id": "Z0P7LfHW9Y7r"
      }
    },
    {
      "cell_type": "code",
      "source": [
        "print('''Hi\n",
        "i like purple heart\n",
        "but i also like white heart\n",
        "i don't like black hearts.'''.split('\\n'))"
      ],
      "metadata": {
        "id": "qiJgp2nW9cnI"
      },
      "execution_count": null,
      "outputs": []
    },
    {
      "cell_type": "markdown",
      "source": [
        "### **4. Replacing String Elements**\n",
        "\n",
        "---\n",
        "\n",
        "\n",
        "\n",
        "*   replace()\n",
        "\n",
        "This method can return a new string in the condition that the substring has been\n",
        "replaced with the entered parameter."
      ],
      "metadata": {
        "id": "UfrVwFgX9b0J"
      }
    },
    {
      "cell_type": "code",
      "source": [
        "word = \"Let's learn data science track\"\n",
        "print(word.replace(\"data science track\", \"python\"))"
      ],
      "metadata": {
        "id": "844isEXI_FW0"
      },
      "execution_count": null,
      "outputs": []
    },
    {
      "cell_type": "code",
      "source": [
        "word = \"Let's learn data science, because it is the main material in data science\"\n",
        "print(word.replace(\"data science\", \"python\", 1))"
      ],
      "metadata": {
        "id": "mGZ-_o9d_nLH"
      },
      "execution_count": null,
      "outputs": []
    },
    {
      "cell_type": "markdown",
      "source": [
        "Note : The replace function is case sensitive, meaning that all letters and spaces must be the same.\n",
        "\n",
        "Optional : The third parameter in replace can be specified the number of substrings to be replaced."
      ],
      "metadata": {
        "id": "YBLBqlV8_F5r"
      }
    },
    {
      "cell_type": "markdown",
      "source": [
        "### **5. String Check**\n",
        "\n",
        "---\n",
        "\n",
        "\n",
        "*   isupper()\n",
        "\n",
        "\n",
        "This function will return True if all the letters in the string is uppercase, and will return False if there is only one lowercase letter in in that string."
      ],
      "metadata": {
        "id": "2-6F5tmd_KVE"
      }
    },
    {
      "cell_type": "code",
      "source": [
        "word = 'DATA SCIENCE'\n",
        "word.isupper()"
      ],
      "metadata": {
        "id": "yZxvSIpYB4NX"
      },
      "execution_count": null,
      "outputs": []
    },
    {
      "cell_type": "markdown",
      "source": [
        "Example that returns False :"
      ],
      "metadata": {
        "id": "VF2RxQTvB4ng"
      }
    },
    {
      "cell_type": "code",
      "source": [
        "word = 'Data Science'\n",
        "word.isupper()"
      ],
      "metadata": {
        "id": "TYoo2T14B9Rn"
      },
      "execution_count": null,
      "outputs": []
    },
    {
      "cell_type": "markdown",
      "source": [
        "*   islower()\n",
        "\n",
        "This function is opposite of isupper() method, this method will return value True if all letters in the string are lowercase, and will return the value False if there is only one uppercase letter in the string."
      ],
      "metadata": {
        "id": "RpIEpDsLB9sd"
      }
    },
    {
      "cell_type": "code",
      "source": [
        "term = 'data science'\n",
        "term.islower()"
      ],
      "metadata": {
        "id": "LhJM3BW3CJEs"
      },
      "execution_count": null,
      "outputs": []
    },
    {
      "cell_type": "code",
      "source": [
        "term = 'Data Science'\n",
        "term.islower()"
      ],
      "metadata": {
        "id": "xWOaNvWlEAE5"
      },
      "execution_count": null,
      "outputs": []
    },
    {
      "cell_type": "markdown",
      "source": [
        "*   isalpha()\n",
        "\n",
        "This method will return True if all characters in string are letters of the alphabet. Otherwise it will return False."
      ],
      "metadata": {
        "id": "v_ChghnSCJrT"
      }
    },
    {
      "cell_type": "code",
      "source": [
        "'cat'.isalpha()"
      ],
      "metadata": {
        "id": "LcdaW7oKCT44"
      },
      "execution_count": null,
      "outputs": []
    },
    {
      "cell_type": "markdown",
      "source": [
        "*   isalnum()\n",
        "\n",
        "This method will return True if the character in the string is alphanumeric, only letters or only numbers or both. If not then will returns False value."
      ],
      "metadata": {
        "id": "v4uH_r5rCUQY"
      }
    },
    {
      "cell_type": "code",
      "source": [
        "'rabbit007'.isalnum()"
      ],
      "metadata": {
        "id": "Jbt2ZstsCqNa"
      },
      "execution_count": null,
      "outputs": []
    },
    {
      "cell_type": "markdown",
      "source": [
        "*   isdecimal()\n",
        "\n",
        "This method will return True if the characters in the string are only contains numeric, otherwise it returns False."
      ],
      "metadata": {
        "id": "mO2XD8gWCq3w"
      }
    },
    {
      "cell_type": "code",
      "source": [
        "'040102'.isdecimal()"
      ],
      "metadata": {
        "id": "kqNREOJLCzr2"
      },
      "execution_count": null,
      "outputs": []
    },
    {
      "cell_type": "markdown",
      "source": [
        "*   isspace()\n",
        "\n",
        "This method will return True if the string contains only whitespace, such as space, tab, newline or other whitespace characters. If not then will return False."
      ],
      "metadata": {
        "id": "vZkEAGv6C0KW"
      }
    },
    {
      "cell_type": "code",
      "source": [
        "'  '.isspace()"
      ],
      "metadata": {
        "id": "WqOV5vmMC99q"
      },
      "execution_count": null,
      "outputs": []
    },
    {
      "cell_type": "markdown",
      "source": [
        "*   istitle()\n",
        "\n",
        "This method will return True if the string contains capital letters on each word and then followed by a lowercase letter, otherwise it will return the value\n",
        "false."
      ],
      "metadata": {
        "id": "1ANPrAK-C-Ot"
      }
    },
    {
      "cell_type": "code",
      "source": [
        "'My Cat'.istitle()"
      ],
      "metadata": {
        "id": "H1SukPMSDQCg"
      },
      "execution_count": null,
      "outputs": []
    },
    {
      "cell_type": "markdown",
      "source": [
        "Note : All the methods we have discussed return a Boolean value and cannot\n",
        "blank."
      ],
      "metadata": {
        "id": "YV2WBWRMDRGL"
      }
    },
    {
      "cell_type": "markdown",
      "source": [
        "### **6. Text Align Right/Left/Center**\n",
        "\n",
        "---\n",
        "\n",
        "*   rjust() / ljust()\n",
        "\n",
        "Used to make the text right and left."
      ],
      "metadata": {
        "id": "BvzogNN2DVQe"
      }
    },
    {
      "cell_type": "code",
      "source": [
        "'Purple'.rjust(7)"
      ],
      "metadata": {
        "id": "OrD0s67SFcCF"
      },
      "execution_count": null,
      "outputs": []
    },
    {
      "cell_type": "code",
      "source": [
        "'Heart'.ljust(7)"
      ],
      "metadata": {
        "id": "-zlXQKHfG9_N"
      },
      "execution_count": null,
      "outputs": []
    },
    {
      "cell_type": "markdown",
      "source": [
        "In addition to spaces we can also add other parameters to the rjust() or ljust() functions such as following :"
      ],
      "metadata": {
        "id": "tcmiCMCiGkgd"
      }
    },
    {
      "cell_type": "code",
      "source": [
        "'White'.ljust(13,'?')"
      ],
      "metadata": {
        "id": "ejngr999Gmxw"
      },
      "execution_count": null,
      "outputs": []
    },
    {
      "cell_type": "markdown",
      "source": [
        "*   center()\n",
        "\n",
        "This method will make the text centered."
      ],
      "metadata": {
        "id": "9bjc4sNTGnJX"
      }
    },
    {
      "cell_type": "code",
      "source": [
        "'Heart'.center(7)\n",
        "\n",
        "#same as rjust() / ljust() we can add characters to function parameters center()"
      ],
      "metadata": {
        "id": "AQ1TmnVUGuGR"
      },
      "execution_count": null,
      "outputs": []
    }
  ]
}