{
  "nbformat": 4,
  "nbformat_minor": 0,
  "metadata": {
    "colab": {
      "name": "Python Operation (List, Set, String).ipynb",
      "provenance": [],
      "collapsed_sections": [
        "K3qiBm-I9n14",
        "yA_loD_J-IMi",
        "g2wqWnGL-Zaw",
        "oVBZPGAe-uFr",
        "S2vpBfQP_VJn",
        "WZua1HP0ArwL",
        "88yMLX-QCEk2"
      ]
    },
    "kernelspec": {
      "name": "python3",
      "display_name": "Python 3"
    },
    "language_info": {
      "name": "python"
    }
  },
  "cells": [
    {
      "cell_type": "markdown",
      "source": [
        "**OPERATION in list, set, and String**"
      ],
      "metadata": {
        "id": "1-zADplN9iYm"
      }
    },
    {
      "cell_type": "markdown",
      "source": [
        "##**len()**\n",
        "> len() will returns the length of an object"
      ],
      "metadata": {
        "id": "K3qiBm-I9n14"
      }
    },
    {
      "cell_type": "code",
      "execution_count": 1,
      "metadata": {
        "id": "3AHbuS0v9ccv"
      },
      "outputs": [],
      "source": [
        "# List\n",
        "a_list = [3,5,5,7,7,7]"
      ]
    },
    {
      "cell_type": "code",
      "source": [
        "print(a_list)"
      ],
      "metadata": {
        "id": "jqtDQhMV96I0"
      },
      "execution_count": null,
      "outputs": []
    },
    {
      "cell_type": "code",
      "source": [
        "len(a_list)"
      ],
      "metadata": {
        "id": "JAc9JHZ59y29"
      },
      "execution_count": null,
      "outputs": []
    },
    {
      "cell_type": "code",
      "source": [
        "# Set\n",
        "a_set = {3,5,5,7,7,7}"
      ],
      "metadata": {
        "id": "eqrs6V-49zI1"
      },
      "execution_count": 4,
      "outputs": []
    },
    {
      "cell_type": "code",
      "source": [
        "print(a_set)"
      ],
      "metadata": {
        "id": "vxFHNtB0941s"
      },
      "execution_count": null,
      "outputs": []
    },
    {
      "cell_type": "code",
      "source": [
        "len(a_set)"
      ],
      "metadata": {
        "id": "2F7qdfQr9-z3"
      },
      "execution_count": null,
      "outputs": []
    },
    {
      "cell_type": "code",
      "source": [
        "a_string = \"Python Operation\""
      ],
      "metadata": {
        "id": "0ljSguis-AtM"
      },
      "execution_count": 7,
      "outputs": []
    },
    {
      "cell_type": "code",
      "source": [
        "len(a_string)"
      ],
      "metadata": {
        "id": "pCDv-3Zl-EF7"
      },
      "execution_count": null,
      "outputs": []
    },
    {
      "cell_type": "markdown",
      "source": [
        "## **min() and max()**\n",
        "> min() return the lowest value, and max return the highest value"
      ],
      "metadata": {
        "id": "yA_loD_J-IMi"
      }
    },
    {
      "cell_type": "code",
      "source": [
        "min(a_list)"
      ],
      "metadata": {
        "id": "LmmjtalI-O56"
      },
      "execution_count": null,
      "outputs": []
    },
    {
      "cell_type": "code",
      "source": [
        "max(a_list)"
      ],
      "metadata": {
        "id": "KVxKbOWx-XED"
      },
      "execution_count": null,
      "outputs": []
    },
    {
      "cell_type": "markdown",
      "source": [
        "##**count()**\n",
        "> Data Occurance"
      ],
      "metadata": {
        "id": "g2wqWnGL-Zaw"
      }
    },
    {
      "cell_type": "code",
      "source": [
        "a_list.count(7)"
      ],
      "metadata": {
        "id": "8tEWrTwO-duR"
      },
      "execution_count": null,
      "outputs": []
    },
    {
      "cell_type": "code",
      "source": [
        "a_set.count(7) #can't use count in set"
      ],
      "metadata": {
        "id": "YebLwzFI-iCS"
      },
      "execution_count": null,
      "outputs": []
    },
    {
      "cell_type": "markdown",
      "source": [
        "## **Merging (+) and replication (*)**"
      ],
      "metadata": {
        "id": "oVBZPGAe-uFr"
      }
    },
    {
      "cell_type": "code",
      "source": [
        "a_merging = [1, 9, 9, 1]\n",
        "s_merging = ['p', 'y', 't', 'h', 'o', 'n']"
      ],
      "metadata": {
        "id": "paEMbWpF-muy"
      },
      "execution_count": 13,
      "outputs": []
    },
    {
      "cell_type": "code",
      "source": [
        "# Merging\n",
        "s_merging + a_merging"
      ],
      "metadata": {
        "id": "6o4Jqfl9_Afg"
      },
      "execution_count": null,
      "outputs": []
    },
    {
      "cell_type": "code",
      "source": [
        "# Replication\n",
        "s_merging * 2"
      ],
      "metadata": {
        "id": "BBAlW93O_DsK"
      },
      "execution_count": null,
      "outputs": []
    },
    {
      "cell_type": "markdown",
      "source": [
        "we can using replication for List"
      ],
      "metadata": {
        "id": "Pi3A_1r2_H03"
      }
    },
    {
      "cell_type": "code",
      "source": [
        "initi = [2,7,11]*3"
      ],
      "metadata": {
        "id": "MFuBbvyM_Hhv"
      },
      "execution_count": 16,
      "outputs": []
    },
    {
      "cell_type": "code",
      "source": [
        "print(initi)"
      ],
      "metadata": {
        "id": "-0IlADTW_QU4"
      },
      "execution_count": null,
      "outputs": []
    },
    {
      "cell_type": "markdown",
      "source": [
        "##**range()**\n",
        "> usually used for loop processes. We can use the range() in 3 ways (parameters). And it will look similar to Slicing data on a List"
      ],
      "metadata": {
        "id": "S2vpBfQP_VJn"
      }
    },
    {
      "cell_type": "markdown",
      "source": [
        "**1 Parameter --- :: range(n)**\n",
        "> from 0 to n"
      ],
      "metadata": {
        "id": "i5AMOaTU_2Mm"
      }
    },
    {
      "cell_type": "code",
      "source": [
        "for i in range(3):\n",
        "  print(i*2)"
      ],
      "metadata": {
        "id": "WuSSmZvC_Vbf"
      },
      "execution_count": null,
      "outputs": []
    },
    {
      "cell_type": "markdown",
      "source": [
        "**2 Parameters --- range(x,n)**\n",
        "> from x (*inclusive*) to n (*exclusive*) "
      ],
      "metadata": {
        "id": "GNt0Crq1__LF"
      }
    },
    {
      "cell_type": "code",
      "source": [
        "for i in range (2, 11):\n",
        "  print(i)"
      ],
      "metadata": {
        "id": "W5n5WY5AAGs1"
      },
      "execution_count": null,
      "outputs": []
    },
    {
      "cell_type": "markdown",
      "source": [
        "**3 Parameters --- :: range(x,n,y)**\n",
        "> from x to n with y step"
      ],
      "metadata": {
        "id": "dZL7JloMALSU"
      }
    },
    {
      "cell_type": "code",
      "source": [
        "for i in range(5,10,2):\n",
        "  print(i)"
      ],
      "metadata": {
        "id": "I_0e_uHsALIP"
      },
      "execution_count": null,
      "outputs": []
    },
    {
      "cell_type": "markdown",
      "source": [
        "##**Multiple Value using List [ ]**\n",
        "> using new variable to assign a list index"
      ],
      "metadata": {
        "id": "WZua1HP0ArwL"
      }
    },
    {
      "cell_type": "code",
      "source": [
        "ponethic = [\"Alpha\", \"Tokyo\", \"Zeta\"]"
      ],
      "metadata": {
        "id": "t5ObgzUwA7TT"
      },
      "execution_count": 21,
      "outputs": []
    },
    {
      "cell_type": "code",
      "source": [
        "print(ponethic)"
      ],
      "metadata": {
        "id": "ocZ1NQ-9BBC6"
      },
      "execution_count": null,
      "outputs": []
    },
    {
      "cell_type": "code",
      "source": [
        "new_pone = ponethic[2]"
      ],
      "metadata": {
        "id": "wwVS-FiSBGfy"
      },
      "execution_count": 23,
      "outputs": []
    },
    {
      "cell_type": "code",
      "source": [
        "print(new_pone)"
      ],
      "metadata": {
        "id": "fjJud4GIBLBq"
      },
      "execution_count": null,
      "outputs": []
    },
    {
      "cell_type": "markdown",
      "source": [
        "simple multiple list declaration"
      ],
      "metadata": {
        "id": "fG2ZULB9AxkM"
      }
    },
    {
      "cell_type": "code",
      "source": [
        "# List\n",
        "alph_list = [\"P\", \"Y\", \"T\", \"H\", \"O\", \"N\"]"
      ],
      "metadata": {
        "id": "tlMGyzXYBX0L"
      },
      "execution_count": 27,
      "outputs": []
    },
    {
      "cell_type": "code",
      "source": [
        "p, y, t, h, o, n = alph_list"
      ],
      "metadata": {
        "id": "vAUuSg2iBqAi"
      },
      "execution_count": 28,
      "outputs": []
    },
    {
      "cell_type": "code",
      "source": [
        "print(o)"
      ],
      "metadata": {
        "id": "wn01XMWcBtlA"
      },
      "execution_count": null,
      "outputs": []
    },
    {
      "cell_type": "code",
      "source": [
        "# Tuple\n",
        "alph_tuple = (\"P\", \"Y\", \"T\",\"H\", \"O\", \"N\")"
      ],
      "metadata": {
        "id": "Sn1ilKZsBy1f"
      },
      "execution_count": 34,
      "outputs": []
    },
    {
      "cell_type": "code",
      "source": [
        "pt, yt, tt, ht, ot, nt = alph_tuple"
      ],
      "metadata": {
        "id": "oKczn65AB6wQ"
      },
      "execution_count": 35,
      "outputs": []
    },
    {
      "cell_type": "code",
      "source": [
        "print(yt)"
      ],
      "metadata": {
        "id": "zUyOX3kLB_O2"
      },
      "execution_count": null,
      "outputs": []
    },
    {
      "cell_type": "markdown",
      "source": [
        "##**sort()**\n",
        "> sorting a value from numerical or string"
      ],
      "metadata": {
        "id": "88yMLX-QCEk2"
      }
    },
    {
      "cell_type": "code",
      "source": [
        "# Numerical\n",
        "val = [20, 10, 2, 33, 7]"
      ],
      "metadata": {
        "id": "bWGlXfrKCE5R"
      },
      "execution_count": 37,
      "outputs": []
    },
    {
      "cell_type": "code",
      "source": [
        "val.sort()"
      ],
      "metadata": {
        "id": "sYZQq2oPCVwf"
      },
      "execution_count": 38,
      "outputs": []
    },
    {
      "cell_type": "code",
      "source": [
        "print(val)"
      ],
      "metadata": {
        "id": "cWXR2fm5CXMc"
      },
      "execution_count": null,
      "outputs": []
    },
    {
      "cell_type": "code",
      "source": [
        "# String\n",
        "val_str = [\"Mike\", \"India\", \"Oscar\"]"
      ],
      "metadata": {
        "id": "8DVJ0IbTCY1O"
      },
      "execution_count": 40,
      "outputs": []
    },
    {
      "cell_type": "code",
      "source": [
        "val_str.sort()"
      ],
      "metadata": {
        "id": "8LbdJLtgCnRV"
      },
      "execution_count": 41,
      "outputs": []
    },
    {
      "cell_type": "code",
      "source": [
        "print(val_str)"
      ],
      "metadata": {
        "id": "wW3wuNbVCpdd"
      },
      "execution_count": null,
      "outputs": []
    },
    {
      "cell_type": "markdown",
      "source": [
        "**reverse the sorting** to become a Descending"
      ],
      "metadata": {
        "id": "I4OJ2c4nCrH9"
      }
    },
    {
      "cell_type": "code",
      "source": [
        "val_str.sort(reverse=True)"
      ],
      "metadata": {
        "id": "68jSDSnACrW2"
      },
      "execution_count": 43,
      "outputs": []
    },
    {
      "cell_type": "code",
      "source": [
        "print(val_str)"
      ],
      "metadata": {
        "id": "MA6_dgcwCzxF"
      },
      "execution_count": null,
      "outputs": []
    },
    {
      "cell_type": "markdown",
      "source": [
        "**Can't sorting a numerical together with string in one List !!**"
      ],
      "metadata": {
        "id": "-NvPe12xC3IU"
      }
    },
    {
      "cell_type": "markdown",
      "source": [
        "sorting String ---- **Uppercase > Lowercase**"
      ],
      "metadata": {
        "id": "WWGkiqsfDDvc"
      }
    },
    {
      "cell_type": "code",
      "source": [
        "uplow = [\"Quebec\", \"tango\", \"india\", \"Oscar\", \"alpha\"]"
      ],
      "metadata": {
        "id": "l1gdvAL0DHzv"
      },
      "execution_count": 45,
      "outputs": []
    },
    {
      "cell_type": "code",
      "source": [
        "uplow.sort()"
      ],
      "metadata": {
        "id": "qMK0TK6tDV4E"
      },
      "execution_count": 46,
      "outputs": []
    },
    {
      "cell_type": "code",
      "source": [
        "print(uplow)"
      ],
      "metadata": {
        "id": "U7XxIvCrDXLt"
      },
      "execution_count": null,
      "outputs": []
    },
    {
      "cell_type": "markdown",
      "source": [
        "we can generalize the string by making it lowercase"
      ],
      "metadata": {
        "id": "o0mumDMODY0C"
      }
    },
    {
      "cell_type": "code",
      "source": [
        "uplow.sort(key=str.lower)"
      ],
      "metadata": {
        "id": "mGtI9jeyDeaz"
      },
      "execution_count": 48,
      "outputs": []
    },
    {
      "cell_type": "code",
      "source": [
        "print(uplow)"
      ],
      "metadata": {
        "id": "ulTo0qB2Dggi"
      },
      "execution_count": null,
      "outputs": []
    }
  ]
}