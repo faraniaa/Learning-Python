{
  "nbformat": 4,
  "nbformat_minor": 0,
  "metadata": {
    "colab": {
      "name": "Input Output in Python.ipynb",
      "provenance": []
    },
    "kernelspec": {
      "name": "python3",
      "display_name": "Python 3"
    },
    "language_info": {
      "name": "python"
    }
  },
  "cells": [
    {
      "cell_type": "markdown",
      "source": [
        "# **Learn Python #3 : How to Take Input and Display Output**"
      ],
      "metadata": {
        "id": "DdHJ-6DOsTtK"
      }
    },
    {
      "cell_type": "markdown",
      "source": [
        "**Input** is the input we give to the program.\n",
        "\n",
        "The program will process it and display the **Output**.\n",
        "\n",
        "**Input** and **Output** are the core of all computer programs."
      ],
      "metadata": {
        "id": "nOvp1mU4sb2P"
      }
    },
    {
      "cell_type": "markdown",
      "source": [
        "### **1. How to Take Input from Keyboard**\n",
        "\n",
        "---\n",
        "\n"
      ],
      "metadata": {
        "id": "Mf_lMQ3ytKLs"
      }
    },
    {
      "cell_type": "markdown",
      "source": [
        "Python already provides **input()** functions to take input from the keyboard."
      ],
      "metadata": {
        "id": "QSK1Kq9athmU"
      }
    },
    {
      "cell_type": "code",
      "execution_count": null,
      "metadata": {
        "id": "xf4ku6OTrz74"
      },
      "outputs": [],
      "source": [
        "variable_name = input(\" \")"
      ]
    },
    {
      "cell_type": "markdown",
      "source": [
        "The meaning is, the text that we input from the keyboard will be saved into variable_name."
      ],
      "metadata": {
        "id": "IHguHQMBuF8X"
      }
    },
    {
      "cell_type": "code",
      "source": [
        "# Take Input\n",
        "name = input(\"What's your name : \")\n",
        "age = input(\"How old are you : \")\n",
        "\n",
        "# Display Output\n",
        "print(\"Hi...\",name,\"Your age is \",age,\"years old\")"
      ],
      "metadata": {
        "id": "4BLLtTxzuZdT"
      },
      "execution_count": null,
      "outputs": []
    },
    {
      "cell_type": "markdown",
      "source": [
        "What is the **input()** functions?\n",
        "\n",
        "*   The input() function is used to retrieve numeric data and retrieve text.\n",
        "\n",
        "*   In Python, it's enough to just use the input() function, because the raw_input() function is already combined there.\n",
        "\n"
      ],
      "metadata": {
        "id": "PXdq1H8evQrI"
      }
    },
    {
      "cell_type": "markdown",
      "source": [
        "### **2. How to Display Output**\n",
        "\n",
        "---\n",
        "\n"
      ],
      "metadata": {
        "id": "ATZuqX69v8Up"
      }
    },
    {
      "cell_type": "markdown",
      "source": [
        "To display text output, we use the **print()** function."
      ],
      "metadata": {
        "id": "BC-ohs56wFeJ"
      }
    },
    {
      "cell_type": "code",
      "source": [
        "print(\"Hello World!\")\n",
        "print(variable_name)\n",
        "print(\"Text\", variable_name)"
      ],
      "metadata": {
        "id": "jsZw1E89vzcH"
      },
      "execution_count": null,
      "outputs": []
    },
    {
      "cell_type": "markdown",
      "source": [
        "*   **Displaying Variables and Text**\n",
        "\n",
        "In the example above we use a comma (,) to combine the text and the variable to be displayed."
      ],
      "metadata": {
        "id": "w-U9Jg65wZvQ"
      }
    },
    {
      "cell_type": "code",
      "source": [
        "name = \"Sara\"\n",
        "print(\"Hi...\",name)"
      ],
      "metadata": {
        "id": "mHHbZoAIw1rw"
      },
      "execution_count": null,
      "outputs": []
    },
    {
      "cell_type": "markdown",
      "source": [
        "Between the words Hi and Sara there is a space as a separator, because use a comma.\n",
        "\n",
        "Should not be enclosed when using a comma.\n",
        "\n",
        "If you want to use brackets, then we must combine the text and variables with a plus sign (+)."
      ],
      "metadata": {
        "id": "zX7YBgc_xJea"
      }
    },
    {
      "cell_type": "code",
      "source": [
        "name = \"Sara\"\n",
        "print(\"Hi... \" + name)"
      ],
      "metadata": {
        "id": "ZXfl29D8xiJ-"
      },
      "execution_count": null,
      "outputs": []
    },
    {
      "cell_type": "markdown",
      "source": [
        "*   **Using the format() function**\n",
        "\n",
        "The format() function will combine the contents of the variable with the text."
      ],
      "metadata": {
        "id": "vjlZRYprxXH9"
      }
    },
    {
      "cell_type": "code",
      "source": [
        "name = input(\"Name : \")\n",
        "print(\"Hi {} How are you ?\".format(name))"
      ],
      "metadata": {
        "id": "phClWy1hx9bR"
      },
      "execution_count": null,
      "outputs": []
    },
    {
      "cell_type": "markdown",
      "source": [
        "The {} sign will be automatically replaced according to the value we input to the variable name."
      ],
      "metadata": {
        "id": "2_hNDLpuyOH4"
      }
    },
    {
      "cell_type": "code",
      "source": [
        "hobby = input(\"Your hobby : \")\n",
        "reason = input(\"Because : \")\n",
        "\n",
        "print (\"My hobby is {}, i like my hobby because {} :)\".format(hobby, reason))"
      ],
      "metadata": {
        "id": "CFGl8yiYyWIh"
      },
      "execution_count": null,
      "outputs": []
    },
    {
      "cell_type": "markdown",
      "source": [
        "*   **Using the String Formatting**\n",
        "\n",
        "Combining text and variables using the percent symbol (%)."
      ],
      "metadata": {
        "id": "2Smi7Jf0znFu"
      }
    },
    {
      "cell_type": "code",
      "source": [
        "say = input(\"What do you want to say : \")\n",
        "print (\"I want to say %s\" % say)"
      ],
      "metadata": {
        "id": "bRjq4EvM0KlG"
      },
      "execution_count": null,
      "outputs": []
    },
    {
      "cell_type": "markdown",
      "source": [
        "The %s sign will be automatically replaced with the value we input to the variable say."
      ],
      "metadata": {
        "id": "ouMG7pKT0pxa"
      }
    },
    {
      "cell_type": "code",
      "source": [
        "name = input(\"My name : \")\n",
        "age = 20\n",
        "height = 165\n",
        "\n",
        "print (\"Hi %s, your age is %d years old and your height is %d cm\" % (name,age,height))"
      ],
      "metadata": {
        "id": "oDrcDyrB04i1"
      },
      "execution_count": null,
      "outputs": []
    },
    {
      "cell_type": "markdown",
      "source": [
        "**Another note :**\n",
        "*   %s for text data types\n",
        "*   %d for numbers (decimal)\n",
        "*   %f for fractional numbers"
      ],
      "metadata": {
        "id": "-8ZscOS409ad"
      }
    }
  ]
}