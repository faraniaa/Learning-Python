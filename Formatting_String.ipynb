{
  "nbformat": 4,
  "nbformat_minor": 0,
  "metadata": {
    "colab": {
      "name": "Formatting String.ipynb",
      "provenance": []
    },
    "kernelspec": {
      "name": "python3",
      "display_name": "Python 3"
    },
    "language_info": {
      "name": "python"
    }
  },
  "cells": [
    {
      "cell_type": "markdown",
      "source": [
        "# Formatting String"
      ],
      "metadata": {
        "id": "QaVUvMV4ezAW"
      }
    },
    {
      "cell_type": "markdown",
      "source": [
        "zfill()\n",
        "\n",
        "- A method that can add a numeric value of 0 to the left of a number or string using the zfill() method\n",
        "- The use of the zfill() method can be applied to invoice numbers or queue numbers\n",
        "- The number of characters must be less than or equal to the zfill value."
      ],
      "metadata": {
        "id": "-qlCc6E4e12U"
      }
    },
    {
      "cell_type": "code",
      "execution_count": 9,
      "metadata": {
        "colab": {
          "base_uri": "https://localhost:8080/"
        },
        "id": "eR-6KbKAcMhc",
        "outputId": "8811f532-9057-47fd-f189-d827eb7bdde6"
      },
      "outputs": [
        {
          "output_type": "stream",
          "name": "stdout",
          "text": [
            "Input 2 Number ID: 14\n",
            "Your Passcode:  0000014\n"
          ]
        }
      ],
      "source": [
        "#In this example, wi will make id with zfill\n",
        "id=input(\"Input 2 Number ID: \")\n",
        "print(\"Your Passcode: \",str(id).zfill(7))"
      ]
    },
    {
      "cell_type": "markdown",
      "source": [
        "# Text align right/left/center"
      ],
      "metadata": {
        "id": "WfqmN9bihGS3"
      }
    },
    {
      "cell_type": "markdown",
      "source": [
        "rjust()\n",
        "- The rjust() method is used to make the text right-align\n",
        "- This method will add a space to the string to make it match\n",
        "- The parameter is an integer which is the overall length of the text (not the number of spaces added)"
      ],
      "metadata": {
        "id": "aJYrrFCghIqL"
      }
    },
    {
      "cell_type": "markdown",
      "source": [
        "ljust()\n",
        "\n",
        "- Used for left-aligned text\n",
        "- This method will add a space to the string to make it match\n",
        "- The parameter is an integer which is the overall length of the text (not the number of spaces added)"
      ],
      "metadata": {
        "id": "4eotvEnGhYWr"
      }
    },
    {
      "cell_type": "markdown",
      "source": [
        "center()\n",
        "\n",
        "- The center method will make the text centered\n",
        "- This method will add a space to the string to make it match\n",
        "- The parameter is an integer which is the overall length of the text (not the number of spaces added)"
      ],
      "metadata": {
        "id": "RZFJfQughZVO"
      }
    },
    {
      "cell_type": "code",
      "source": [
        "text=\"\"\"Data are individual facts, statistics, or items of information, \n",
        "often numeric.[1] In a more technical sense, data are a set of values of qualitative\n",
        "or quantitative variables about one or more persons or objects,[1] while a datum \n",
        "(singular of data) is a single value of a single variable.\"\"\"\n",
        "len(text)"
      ],
      "metadata": {
        "colab": {
          "base_uri": "https://localhost:8080/"
        },
        "id": "hJkPmPFXhOkS",
        "outputId": "5cc4beb4-502f-4e28-b1c7-f1445b2be3a9"
      },
      "execution_count": 2,
      "outputs": [
        {
          "output_type": "execute_result",
          "data": {
            "text/plain": [
              "290"
            ]
          },
          "metadata": {},
          "execution_count": 2
        }
      ]
    },
    {
      "cell_type": "code",
      "source": [
        "print(\"Align Left :\")\n",
        "text.ljust(295)"
      ],
      "metadata": {
        "colab": {
          "base_uri": "https://localhost:8080/",
          "height": 90
        },
        "id": "h0eshPo7irGV",
        "outputId": "a3af9db4-1879-4635-c18b-78ca738f85b2"
      },
      "execution_count": 6,
      "outputs": [
        {
          "output_type": "stream",
          "name": "stdout",
          "text": [
            "Align Left :\n"
          ]
        },
        {
          "output_type": "execute_result",
          "data": {
            "text/plain": [
              "'Data are individual facts, statistics, or items of information, \\noften numeric.[1] In a more technical sense, data are a set of values of qualitative\\nor quantitative variables about one or more persons or objects,[1] while a datum \\n(singular of data) is a single value of a single variable.     '"
            ],
            "application/vnd.google.colaboratory.intrinsic+json": {
              "type": "string"
            }
          },
          "metadata": {},
          "execution_count": 6
        }
      ]
    },
    {
      "cell_type": "code",
      "source": [
        "print(\"Align Right :\")\n",
        "text.rjust(295)"
      ],
      "metadata": {
        "colab": {
          "base_uri": "https://localhost:8080/",
          "height": 90
        },
        "id": "Sec5o37WjGBI",
        "outputId": "24b890ca-af16-4523-eccb-7e23cce90594"
      },
      "execution_count": 7,
      "outputs": [
        {
          "output_type": "stream",
          "name": "stdout",
          "text": [
            "Align Right :\n"
          ]
        },
        {
          "output_type": "execute_result",
          "data": {
            "text/plain": [
              "'     Data are individual facts, statistics, or items of information, \\noften numeric.[1] In a more technical sense, data are a set of values of qualitative\\nor quantitative variables about one or more persons or objects,[1] while a datum \\n(singular of data) is a single value of a single variable.'"
            ],
            "application/vnd.google.colaboratory.intrinsic+json": {
              "type": "string"
            }
          },
          "metadata": {},
          "execution_count": 7
        }
      ]
    },
    {
      "cell_type": "code",
      "source": [
        "print(\"Align Center :\")\n",
        "text.center(295)"
      ],
      "metadata": {
        "colab": {
          "base_uri": "https://localhost:8080/",
          "height": 90
        },
        "id": "ffIyw8HsjJ6C",
        "outputId": "e68a01a1-197f-4013-dced-47cc16cfd934"
      },
      "execution_count": 8,
      "outputs": [
        {
          "output_type": "stream",
          "name": "stdout",
          "text": [
            "Align Center :\n"
          ]
        },
        {
          "output_type": "execute_result",
          "data": {
            "text/plain": [
              "'   Data are individual facts, statistics, or items of information, \\noften numeric.[1] In a more technical sense, data are a set of values of qualitative\\nor quantitative variables about one or more persons or objects,[1] while a datum \\n(singular of data) is a single value of a single variable.  '"
            ],
            "application/vnd.google.colaboratory.intrinsic+json": {
              "type": "string"
            }
          },
          "metadata": {},
          "execution_count": 8
        }
      ]
    },
    {
      "cell_type": "markdown",
      "source": [
        "# String Literals"
      ],
      "metadata": {
        "id": "E31-SqtKjq94"
      }
    },
    {
      "cell_type": "markdown",
      "source": [
        "Generally strings are written easily in python, enclosed in single quotes. However, under certain conditions, it takes a single quote in the middle of the string.\n",
        "\n",
        "The escape character i.e. backslash allows you to enter the 'and' character in the string part."
      ],
      "metadata": {
        "id": "3dOTe33ZjZGd"
      }
    },
    {
      "cell_type": "code",
      "source": [
        "\"In other words, wisdom refers to the practical application of a person's knowledge in those circumstances where good may result. Thus wisdom complements and completes the series \\\"data\\\", \\\"information\\\" and \\\"knowledge\\\" of increasingly abstract concepts.\""
      ],
      "metadata": {
        "colab": {
          "base_uri": "https://localhost:8080/",
          "height": 54
        },
        "id": "F78L31QAjuM0",
        "outputId": "defae384-6008-437c-9e99-49b686338681"
      },
      "execution_count": 13,
      "outputs": [
        {
          "output_type": "execute_result",
          "data": {
            "text/plain": [
              "'In other words, wisdom refers to the practical application of a person\\'s knowledge in those circumstances where good may result. Thus wisdom complements and completes the series \"data\", \"information\" and \"knowledge\" of increasingly abstract concepts.'"
            ],
            "application/vnd.google.colaboratory.intrinsic+json": {
              "type": "string"
            }
          },
          "metadata": {},
          "execution_count": 13
        }
      ]
    },
    {
      "cell_type": "markdown",
      "source": [
        "Raw string prints the string corresponding to any given input or text. for raw string implementation, insert the letter r\n"
      ],
      "metadata": {
        "id": "0TK_GftYlEp1"
      }
    },
    {
      "cell_type": "code",
      "source": [
        "print(\"\"\"\\tIn other words, wisdom refers to the practical application of a person's \n",
        "knowledge in those circumstances where good may result. Thus wisdom complements and \n",
        "completes the series \\\"data\\\", \\\"information\\\" and \\\"knowledge\\\" of increasingly abstract concepts.\"\"\")"
      ],
      "metadata": {
        "colab": {
          "base_uri": "https://localhost:8080/"
        },
        "id": "siXDATUqlFrG",
        "outputId": "00bbe050-59e4-4092-8cb9-c91ac0254dff"
      },
      "execution_count": 15,
      "outputs": [
        {
          "output_type": "stream",
          "name": "stdout",
          "text": [
            "\tIn other words, wisdom refers to the practical application of a person's \n",
            "knowledge in those circumstances where good may result. Thus wisdom complements and \n",
            "completes the series \"data\", \"information\" and \"knowledge\" of increasingly abstract concepts.\n"
          ]
        }
      ]
    },
    {
      "cell_type": "code",
      "source": [
        "print(r\"\"\"\\tIn other words, wisdom refers to the practical application of a person's \n",
        "knowledge in those circumstances where good may result. Thus wisdom complements and \n",
        "completes the series \\\"data\\\", \\\"information\\\" and \\\"knowledge\\\" of increasingly abstract concepts.\"\"\")"
      ],
      "metadata": {
        "colab": {
          "base_uri": "https://localhost:8080/"
        },
        "id": "rf91maWflPGR",
        "outputId": "40cad5ab-b0a6-407e-f3eb-4a73e8fb7635"
      },
      "execution_count": 17,
      "outputs": [
        {
          "output_type": "stream",
          "name": "stdout",
          "text": [
            "\\tIn other words, wisdom refers to the practical application of a person's \n",
            "knowledge in those circumstances where good may result. Thus wisdom complements and \n",
            "completes the series \\\"data\\\", \\\"information\\\" and \\\"knowledge\\\" of increasingly abstract concepts.\n"
          ]
        }
      ]
    },
    {
      "cell_type": "markdown",
      "source": [
        "In the above programs,\n",
        "\n",
        "The \\t command should create a tab, but because we are using a raw string, the sentence is printed as it is raw"
      ],
      "metadata": {
        "id": "gWyP0PR1ljS7"
      }
    }
  ]
}