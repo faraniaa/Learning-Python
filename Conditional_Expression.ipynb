{
  "nbformat": 4,
  "nbformat_minor": 0,
  "metadata": {
    "colab": {
      "name": "Conditional Expression.ipynb",
      "provenance": [],
      "collapsed_sections": [
        "vWah1Cr3pyKV",
        "g6ol-ot8rxXK",
        "u_s_pNElrG1h",
        "N_kC8SHnylmk"
      ]
    },
    "kernelspec": {
      "name": "python3",
      "display_name": "Python 3"
    },
    "language_info": {
      "name": "python"
    }
  },
  "cells": [
    {
      "cell_type": "markdown",
      "source": [
        "# **Conditional Expression**\n",
        "> A conditional expression in Python is an expression (in other words, a piece of code that evaluates to a result) whose value depends on a condition.\n",
        "\n",
        "In the real world, we **commonly must evaluate information around us** and **then choose one course of action** or another based on what we observe:\n",
        "\n",
        "```\n",
        "If the weather is nice, then I’ll mow the lawn. (It’s implied that if the weather isn’t nice, then I won’t mow the lawn.)\n",
        "```\n",
        "\n",
        "\n",
        "\n",
        "\n"
      ],
      "metadata": {
        "id": "nDjmVfUdnEo6"
      }
    },
    {
      "cell_type": "markdown",
      "source": [
        "## ***if* Statement**\n",
        ">There is **only one condition or expression**, where if the condition is True , it will return the specified statement or value or output.\n",
        "\n",
        "In its simplest form, it looks like this:\n",
        "```\n",
        "if <expr>:\n",
        "    <statement>\n",
        "```\n",
        "\n"
      ],
      "metadata": {
        "id": "vWah1Cr3pyKV"
      }
    },
    {
      "cell_type": "code",
      "source": [
        "# as a String\n",
        "name = \"Guido van Rossum\""
      ],
      "metadata": {
        "id": "q_nXzrrrsnZW"
      },
      "execution_count": 1,
      "outputs": []
    },
    {
      "cell_type": "code",
      "source": [
        "if name :\n",
        "  print(\"The Creator of the Python Programming Language is\", name)"
      ],
      "metadata": {
        "colab": {
          "base_uri": "https://localhost:8080/"
        },
        "id": "0fK2hG_fs08c",
        "outputId": "9ea0bce3-dfa5-49bb-b05c-5def25e7ab80"
      },
      "execution_count": 2,
      "outputs": [
        {
          "output_type": "stream",
          "name": "stdout",
          "text": [
            "The Creator of the Python Programming Language is Guido van Rossum\n"
          ]
        }
      ]
    },
    {
      "cell_type": "code",
      "source": [
        "#as a Numerical\n",
        "number = int(input(\"Enter a Number : \"))\n",
        "\n",
        "if number==100:\n",
        "  print(\"You're Amazing!!!\")"
      ],
      "metadata": {
        "colab": {
          "base_uri": "https://localhost:8080/"
        },
        "id": "O7HMytTktHAL",
        "outputId": "41e42e61-b4a5-44b4-96a9-9f1b142f8021"
      },
      "execution_count": 5,
      "outputs": [
        {
          "output_type": "stream",
          "name": "stdout",
          "text": [
            "Enter a Number : 100\n",
            "You're Amazing!!!\n"
          ]
        }
      ]
    },
    {
      "cell_type": "code",
      "source": [
        "quiz = input(\"what programming language do we use now? \")\n",
        "\n",
        "#we will using 2 condition with one 'if'\n",
        "if quiz==\"Python\" or quiz==\"python\": \n",
        "  print(\"OMG... You're the Best\")"
      ],
      "metadata": {
        "colab": {
          "base_uri": "https://localhost:8080/"
        },
        "id": "nPBJCkQjuOXJ",
        "outputId": "da0b4d48-671c-40d6-8e75-265a27283523"
      },
      "execution_count": 6,
      "outputs": [
        {
          "output_type": "stream",
          "name": "stdout",
          "text": [
            "what programming language do we use now?Python\n",
            "OMG... You're the Best\n"
          ]
        }
      ]
    },
    {
      "cell_type": "markdown",
      "source": [
        "## ***else* Statement**\n",
        ">There are **two conditions**, where if the first condition is True, it will return the specified value or output in that condition. and if the value is False it will output another value or find another alternative.\n",
        "\n",
        "In its simplest form, it looks like this:\n",
        "```\n",
        "if <expr>:\n",
        "    <statement>\n",
        "else:\n",
        "    <statement2>\n",
        "```\n",
        "\n"
      ],
      "metadata": {
        "id": "g6ol-ot8rxXK"
      }
    },
    {
      "cell_type": "code",
      "source": [
        "exam = int(input(\"What is the result of '100x0+1'? : \"))\n",
        "\n",
        "if exam==1:\n",
        "  print(\"Congratulations !!, You're best of the best\")\n",
        "else :\n",
        "  print(\"Sorry, Please Try Again :( \")"
      ],
      "metadata": {
        "colab": {
          "base_uri": "https://localhost:8080/"
        },
        "id": "Dkm4INXCuCIJ",
        "outputId": "8a829a6b-addb-450a-d916-29c739a1c858"
      },
      "execution_count": 9,
      "outputs": [
        {
          "output_type": "stream",
          "name": "stdout",
          "text": [
            "What is the result of '100x0+1'? : 1\n",
            "Congratulations !!, You're best of the best\n"
          ]
        }
      ]
    },
    {
      "cell_type": "markdown",
      "source": [
        "## ***else if* / *elif* Statement**\n",
        ">There are **more than two conditions or alternatives**, the statement will be executed if one of the conditions is True. If it does not get a True value then it will go to the last option which is in else.\n",
        "\n",
        "In its simplest form, it looks like this:\n",
        "```\n",
        "if <expr>:\n",
        "    <statement>\n",
        "elif <expr2>:\n",
        "    <statement2>\n",
        "elif <expr3>:\n",
        "    <statement3>\n",
        "........\n",
        "else:\n",
        "    <staement_n>\n",
        "```\n",
        "\n"
      ],
      "metadata": {
        "id": "u_s_pNElrG1h"
      }
    },
    {
      "cell_type": "code",
      "source": [
        "Grade = int(input(\"Enter Your Grade : \"))\n",
        "\n",
        "if (Grade > 89) and (Grade <= 100):\n",
        "  print(\"Your Letter Grade is A\")\n",
        "elif (Grade > 79) and (Grade <= 89):\n",
        "  print(\"Your Letter Grade is B\")\n",
        "elif (Grade > 69) and (Grade <= 79):\n",
        "   print(\"Your Letter Grade is C\")\n",
        "elif (Grade > 64) and (Grade <= 69):\n",
        "  print(\"Your Letter Grade is D\")\n",
        "elif (Grade >= 0) and (Grade <= 64):\n",
        "  print(\"Your Letter Grade is F\")\n",
        "else:\n",
        "  print(\"Enter Your Grade from 0 to 100\")"
      ],
      "metadata": {
        "colab": {
          "base_uri": "https://localhost:8080/"
        },
        "id": "kLehn99ZrFkC",
        "outputId": "b30d0403-539b-4851-e558-4bc0079394fd"
      },
      "execution_count": 10,
      "outputs": [
        {
          "output_type": "stream",
          "name": "stdout",
          "text": [
            "Enter Your Grade : 92\n",
            "Your Letter Grade is A\n"
          ]
        }
      ]
    },
    {
      "cell_type": "markdown",
      "source": [
        "\n",
        "\n",
        "---\n",
        "\n"
      ],
      "metadata": {
        "id": "7hw38xU9yiQs"
      }
    },
    {
      "cell_type": "markdown",
      "source": [
        "##**SIMPLE LOGIN SESSION USING IF-ELIF-ELSE  STATEMENT**\n",
        "\n",
        "> we can implement conditional expressions for the login process of an application.\n",
        "\n",
        "a simple example is :"
      ],
      "metadata": {
        "id": "N_kC8SHnylmk"
      }
    },
    {
      "cell_type": "code",
      "source": [
        "name = input(\"Enter Your Name : \")\n",
        "username = input(\"Username : \")\n",
        "password = input(\"Password : \")\n",
        "\n",
        "print(\"\\n\")\n",
        "\n",
        "if (username == \"admin\") and (password == \"admin\"):\n",
        "  print(\"Hello...\", name, \"Welcome Home !\")\n",
        "elif (username != \"admin\") and (password == \"admin\"):\n",
        "  print(\"Username is wrong\")\n",
        "elif (username == \"admin\") and (password != \"admin\"):\n",
        "  print(\"Password is wrong\")\n",
        "else:\n",
        "  print(\"Username & Password Wrong\")\n"
      ],
      "metadata": {
        "colab": {
          "base_uri": "https://localhost:8080/"
        },
        "id": "hudfzPYAyjjE",
        "outputId": "c0d5dcbf-b89a-42c4-de0b-ef227d53f9ad"
      },
      "execution_count": 17,
      "outputs": [
        {
          "output_type": "stream",
          "name": "stdout",
          "text": [
            "Enter Your Name : Robert\n",
            "Username : admin\n",
            "Password : admin\n",
            "\n",
            "\n",
            "Hello... Robert Welcome Home !\n"
          ]
        }
      ]
    }
  ]
}